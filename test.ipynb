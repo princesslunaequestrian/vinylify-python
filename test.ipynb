{
 "cells": [
  {
   "cell_type": "code",
   "execution_count": 8,
   "metadata": {},
   "outputs": [],
   "source": [
    "API = '5854451716:AAF6h7NpNFjjb3OREkrryXsu41VhOBmZE5Q'\n",
    "\n",
    "import telebot\n",
    "import os\n",
    "from telebot import types\n",
    "\n",
    "import numpy as np\n",
    "import matplotlib.pyplot as plt\n",
    "\n",
    "import matplotlib.pyplot as plt\n",
    "import PIL\n",
    "from PIL import Image\n",
    "import math\n",
    "\n",
    "import subprocess"
   ]
  },
  {
   "cell_type": "code",
   "execution_count": 9,
   "metadata": {},
   "outputs": [],
   "source": [
    "processes = {}"
   ]
  },
  {
   "cell_type": "code",
   "execution_count": 10,
   "metadata": {},
   "outputs": [],
   "source": [
    "bot = telebot.TeleBot(API)"
   ]
  },
  {
   "cell_type": "code",
   "execution_count": 11,
   "metadata": {},
   "outputs": [],
   "source": [
    "start_reply = f'Hello. This bot converts your image and audio into a fancy spinning record circle video.\\n\\\n",
    "To start, send messages with image and audio attachments'"
   ]
  },
  {
   "cell_type": "code",
   "execution_count": 12,
   "metadata": {},
   "outputs": [],
   "source": [
    "Replies = {\n",
    "    'start' : start_reply\n",
    "}"
   ]
  },
  {
   "cell_type": "code",
   "execution_count": 13,
   "metadata": {},
   "outputs": [],
   "source": [
    "@bot.message_handler(commands=['start'])\n",
    "def start(message):\n",
    "    bot.send_message(message.chat.id, Replies['start'])\n",
    "\n",
    "@bot.message_handler(commands=['supertest'])\n",
    "def supertest(message):\n",
    "    with open('./final.mp4', 'rb') as vn:\n",
    "        bot.send_video_note(message.from_user.id, data=vn, duration=60, length=int(1000/3))\n",
    "\n",
    "@bot.message_handler(content_types=['audio'])\n",
    "def receive_audio(message):\n",
    "\n",
    "    if (message.from_user.id in processes.keys()):\n",
    "        if (processes[message.from_user.id].poll() != 0):\n",
    "            bot.send_message(message.chat.id, 'Wait until I finish the previous video!')\n",
    "            return\n",
    "\n",
    "    audio_file = bot.get_file(message.audio.file_id)\n",
    "    downloaded_audio_file = bot.download_file(audio_file.file_path)\n",
    "\n",
    "    path = f'./{message.from_user.id}'\n",
    "    if (f'{message.from_user.id}' not in os.listdir('./')):\n",
    "        os.mkdir(path)\n",
    "\n",
    "    with open(path + '/audio.mp3', 'wb') as f:\n",
    "        f.write(downloaded_audio_file)\n",
    "\n",
    "    if ('image.png' in os.listdir(path)):\n",
    "\n",
    "        inline_markup = types.InlineKeyboardMarkup()\n",
    "        item = types.InlineKeyboardButton('Create', callback_data='create')\n",
    "        inline_markup.add(item)\n",
    "        bot.send_message(message.chat.id, 'Now press create to start magic!', reply_markup=inline_markup)\n",
    "\n",
    "    else:\n",
    "        bot.send_message(message.chat.id, 'Now send image!')\n",
    "\n",
    "@bot.message_handler(content_types=['photo'])\n",
    "def receive_image(message):\n",
    "\n",
    "    if (message.from_user.id in processes.keys()):\n",
    "        if (processes[message.from_user.id].poll() != 0):\n",
    "            bot.send_message(message.chat.id, 'Wait until I finish the previous video!')\n",
    "            return\n",
    "\n",
    "    image_file = bot.get_file(message.photo[-1].file_id)\n",
    "    downloaded_image_file = bot.download_file(image_file.file_path)\n",
    "\n",
    "    path = f'./{message.from_user.id}'\n",
    "    if (f'{message.from_user.id}' not in os.listdir('./')):\n",
    "        os.mkdir(path)\n",
    "\n",
    "    with open(path + '/image.png', 'wb') as f:\n",
    "        f.write(downloaded_image_file)\n",
    "\n",
    "    if ('audio.mp3' in os.listdir(path)):\n",
    "        inline_markup = types.InlineKeyboardMarkup()\n",
    "        item = types.InlineKeyboardButton('Create', callback_data='create')\n",
    "        inline_markup.add(item)\n",
    "        bot.send_message(message.chat.id, 'Now press create to start magic!', reply_markup=inline_markup)\n",
    "\n",
    "    else:\n",
    "        bot.send_message(message.chat.id, 'Now send audio!')\n",
    "\n",
    "@bot.callback_query_handler(lambda call: True)\n",
    "def create(call):\n",
    "    if call.data == 'create':\n",
    "        id = call.from_user.id\n",
    "        path = f'./{id}'\n",
    "\n",
    "        if (id in processes.keys()):\n",
    "            if (processes[id].poll() != 0):\n",
    "                bot.send_message(call.message.chat.id, 'Wait until I finish the previous video!')\n",
    "                return\n",
    "\n",
    "        if ('audio.mp3' in os.listdir(path)) and ('image.png' in os.listdir(path)):\n",
    "            bot.send_message(call.message.chat.id, 'I start creating!')\n",
    "            proc = subprocess.Popen(['python', 'converter.py', str(id)])\n",
    "            processes[id] = proc\n",
    "            \n",
    "        else:\n",
    "            print(os.listdir(path))\n",
    "            bot.send_message(call.message.chat.id, 'I fucked up!')\n",
    "    else:\n",
    "        bot.send_message(call.message.chat.id, 'Fuck!')\n",
    "        return"
   ]
  },
  {
   "cell_type": "code",
   "execution_count": 14,
   "metadata": {},
   "outputs": [],
   "source": [
    "bot.polling(non_stop=True)"
   ]
  }
 ],
 "metadata": {
  "kernelspec": {
   "display_name": "Python 3",
   "language": "python",
   "name": "python3"
  },
  "language_info": {
   "codemirror_mode": {
    "name": "ipython",
    "version": 3
   },
   "file_extension": ".py",
   "mimetype": "text/x-python",
   "name": "python",
   "nbconvert_exporter": "python",
   "pygments_lexer": "ipython3",
   "version": "3.10.9"
  },
  "orig_nbformat": 4,
  "vscode": {
   "interpreter": {
    "hash": "26de051ba29f2982a8de78e945f0abaf191376122a1563185a90213a26c5da77"
   }
  }
 },
 "nbformat": 4,
 "nbformat_minor": 2
}
